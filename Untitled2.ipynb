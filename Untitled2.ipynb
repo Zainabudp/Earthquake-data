{
  "nbformat": 4,
  "nbformat_minor": 0,
  "metadata": {
    "colab": {
      "provenance": [],
      "authorship_tag": "ABX9TyNDDsNdek8T9fwMq1e2MEX/",
      "include_colab_link": true
    },
    "kernelspec": {
      "name": "python3",
      "display_name": "Python 3"
    },
    "language_info": {
      "name": "python"
    }
  },
  "cells": [
    {
      "cell_type": "markdown",
      "metadata": {
        "id": "view-in-github",
        "colab_type": "text"
      },
      "source": [
        "<a href=\"https://colab.research.google.com/github/Zainabudp/Earthquake-data/blob/main/Untitled2.ipynb\" target=\"_parent\"><img src=\"https://colab.research.google.com/assets/colab-badge.svg\" alt=\"Open In Colab\"/></a>"
      ]
    },
    {
      "cell_type": "code",
      "execution_count": 1,
      "metadata": {
        "colab": {
          "base_uri": "https://localhost:8080/"
        },
        "id": "87sV3McBghFm",
        "outputId": "8349f560-fc7a-47fc-ada8-bbf9dcc838d3"
      },
      "outputs": [
        {
          "output_type": "stream",
          "name": "stdout",
          "text": [
            "\n",
            "***** Earthquake Global Map is ready to view *****\n"
          ]
        }
      ],
      "source": [
        "# Importin all the required packages to run the syntax\n",
        "import urllib.request\n",
        "import json\n",
        "import time\n",
        "import matplotlib.pyplot as plt\n",
        "import seaborn as sns\n",
        "import folium\n",
        "import pandas as pd\n",
        "import csv\n",
        "from itertools import islice\n",
        "import numpy as np\n",
        "# API for Earthquake data getting the data for Magnitude 2.5 and above\n",
        "url = 'https://earthquake.usgs.gov/earthquakes/feed/v1.0/summary/2.5_week.geojson'\n",
        "response = urllib.request.urlopen(url)\n",
        "result = json.loads(response.read())\n",
        "\n",
        "#print(json.dumps(result, indent=4, sort_keys=True)) #prettify json\n",
        "\n",
        "ethqk_data = result['features']\n",
        "mags, lons, lats, locs = [], [], [], []\n",
        "# Loopin the data from the json to get the required data for mapping\n",
        "for eq in ethqk_data:\n",
        "    mag = eq['properties']['mag']\n",
        "    lon = eq['geometry']['coordinates'][0]\n",
        "    lat = eq['geometry']['coordinates'][1]\n",
        "    location = eq['properties']['place']\n",
        "    locs.append(location)     #Appending the data to the empty lists\n",
        "    mags.append(mag)\n",
        "    lons.append(lon)\n",
        "    lats.append(lat)\n",
        "\n",
        "# Mapping the eartchquake data collected\n",
        "# Make an empty world map\n",
        "m = folium.Map(location=[20,0], tiles=\"OpenStreetMap\", zoom_start=2)\n",
        "\n",
        "# Make a data frame with dots to show on the map\n",
        "eq_data = pd.DataFrame({\n",
        "   'lon': lons,\n",
        "   'lat': lats,\n",
        "   'title': locs,\n",
        "   'mag': mags\n",
        "}, dtype=str)\n",
        "\n",
        "# add marker one by one on the map\n",
        "for i in range(0,len(eq_data)):\n",
        "    html=f\"\"\"\n",
        "        <h1> {eq_data.iloc[i]['title']}</h1>\n",
        "        \"\"\"\n",
        "    iframe = folium.IFrame(html=html, width=300, height=200)    #dimensions for the title box for each icon\n",
        "    popup = folium.Popup(iframe, max_width=2650)\n",
        "    folium.Marker(    # Marker criteria for icons\n",
        "        location=[eq_data.iloc[i]['lat'], eq_data.iloc[i]['lon']],\n",
        "        popup=popup,\n",
        "        icon=folium.DivIcon(html=f\"\"\"\n",
        "            <div><svg>\n",
        "                <circle cx=\"10\" cy=\"10\" r=\"10\" fill=\"#69b3a2\" opacity=\".4\"/>\n",
        "                <rect x=\"5\", y=\"5\" width=\"6\" height=\"6\", fill=\"red\", opacity=\".3\"\n",
        "            </svg></div>\"\"\")\n",
        "    ).add_to(m)\n",
        "# Saving the map in html format\n",
        "m.save('Earthquake Data: 2.5+ Week.html')\n",
        "#print(mags)\n",
        "#print(lons)\n",
        "#print(lats)\n",
        "#print(locs)\n",
        "print(\"\\n***** Earthquake Global Map is ready to view *****\")\n"
      ]
    }
  ]
}